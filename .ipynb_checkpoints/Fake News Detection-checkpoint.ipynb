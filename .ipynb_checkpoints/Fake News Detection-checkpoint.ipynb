{
 "cells": [
  {
   "cell_type": "code",
   "execution_count": 34,
   "id": "cfd8a4d2",
   "metadata": {
    "collapsed": true
   },
   "outputs": [],
   "source": [
    "# Imports\n",
    "\n",
    "import pandas as pd\n",
    "import matplotlib.pyplot as plt\n",
    "from sklearn.model_selection import train_test_split\n",
    "from sklearn.feature_extraction.text import TfidfVectorizer\n",
    "from sklearn.svm import LinearSVC\n",
    "from sklearn.metrics import accuracy_score\n",
    "from sklearn.metrics.pairwise import cosine_similarity"
   ]
  },
  {
   "cell_type": "code",
   "execution_count": 14,
   "id": "2dd3c3c1",
   "metadata": {},
   "outputs": [
    {
     "data": {
      "text/html": [
       "<div>\n",
       "<style scoped>\n",
       "    .dataframe tbody tr th:only-of-type {\n",
       "        vertical-align: middle;\n",
       "    }\n",
       "\n",
       "    .dataframe tbody tr th {\n",
       "        vertical-align: top;\n",
       "    }\n",
       "\n",
       "    .dataframe thead th {\n",
       "        text-align: right;\n",
       "    }\n",
       "</style>\n",
       "<table border=\"1\" class=\"dataframe\">\n",
       "  <thead>\n",
       "    <tr style=\"text-align: right;\">\n",
       "      <th></th>\n",
       "      <th>title</th>\n",
       "      <th>text</th>\n",
       "      <th>subject</th>\n",
       "      <th>date</th>\n",
       "    </tr>\n",
       "  </thead>\n",
       "  <tbody>\n",
       "    <tr>\n",
       "      <th>0</th>\n",
       "      <td>As U.S. budget fight looms, Republicans flip t...</td>\n",
       "      <td>WASHINGTON (Reuters) - The head of a conservat...</td>\n",
       "      <td>politicsNews</td>\n",
       "      <td>December 31, 2017</td>\n",
       "    </tr>\n",
       "    <tr>\n",
       "      <th>1</th>\n",
       "      <td>U.S. military to accept transgender recruits o...</td>\n",
       "      <td>WASHINGTON (Reuters) - Transgender people will...</td>\n",
       "      <td>politicsNews</td>\n",
       "      <td>December 29, 2017</td>\n",
       "    </tr>\n",
       "    <tr>\n",
       "      <th>2</th>\n",
       "      <td>Senior U.S. Republican senator: 'Let Mr. Muell...</td>\n",
       "      <td>WASHINGTON (Reuters) - The special counsel inv...</td>\n",
       "      <td>politicsNews</td>\n",
       "      <td>December 31, 2017</td>\n",
       "    </tr>\n",
       "    <tr>\n",
       "      <th>3</th>\n",
       "      <td>FBI Russia probe helped by Australian diplomat...</td>\n",
       "      <td>WASHINGTON (Reuters) - Trump campaign adviser ...</td>\n",
       "      <td>politicsNews</td>\n",
       "      <td>December 30, 2017</td>\n",
       "    </tr>\n",
       "    <tr>\n",
       "      <th>4</th>\n",
       "      <td>Trump wants Postal Service to charge 'much mor...</td>\n",
       "      <td>SEATTLE/WASHINGTON (Reuters) - President Donal...</td>\n",
       "      <td>politicsNews</td>\n",
       "      <td>December 29, 2017</td>\n",
       "    </tr>\n",
       "  </tbody>\n",
       "</table>\n",
       "</div>"
      ],
      "text/plain": [
       "                                               title  \\\n",
       "0  As U.S. budget fight looms, Republicans flip t...   \n",
       "1  U.S. military to accept transgender recruits o...   \n",
       "2  Senior U.S. Republican senator: 'Let Mr. Muell...   \n",
       "3  FBI Russia probe helped by Australian diplomat...   \n",
       "4  Trump wants Postal Service to charge 'much mor...   \n",
       "\n",
       "                                                text       subject  \\\n",
       "0  WASHINGTON (Reuters) - The head of a conservat...  politicsNews   \n",
       "1  WASHINGTON (Reuters) - Transgender people will...  politicsNews   \n",
       "2  WASHINGTON (Reuters) - The special counsel inv...  politicsNews   \n",
       "3  WASHINGTON (Reuters) - Trump campaign adviser ...  politicsNews   \n",
       "4  SEATTLE/WASHINGTON (Reuters) - President Donal...  politicsNews   \n",
       "\n",
       "                 date  \n",
       "0  December 31, 2017   \n",
       "1  December 29, 2017   \n",
       "2  December 31, 2017   \n",
       "3  December 30, 2017   \n",
       "4  December 29, 2017   "
      ]
     },
     "execution_count": 14,
     "metadata": {},
     "output_type": "execute_result"
    }
   ],
   "source": [
    "# Load the real news dataset\n",
    "real_data_frame = pd.read_csv('data/real.csv')\n",
    "real_data_frame.head()"
   ]
  },
  {
   "cell_type": "code",
   "execution_count": 15,
   "id": "c82f3c9c",
   "metadata": {},
   "outputs": [
    {
     "data": {
      "text/html": [
       "<div>\n",
       "<style scoped>\n",
       "    .dataframe tbody tr th:only-of-type {\n",
       "        vertical-align: middle;\n",
       "    }\n",
       "\n",
       "    .dataframe tbody tr th {\n",
       "        vertical-align: top;\n",
       "    }\n",
       "\n",
       "    .dataframe thead th {\n",
       "        text-align: right;\n",
       "    }\n",
       "</style>\n",
       "<table border=\"1\" class=\"dataframe\">\n",
       "  <thead>\n",
       "    <tr style=\"text-align: right;\">\n",
       "      <th></th>\n",
       "      <th>title</th>\n",
       "      <th>text</th>\n",
       "      <th>subject</th>\n",
       "      <th>date</th>\n",
       "    </tr>\n",
       "  </thead>\n",
       "  <tbody>\n",
       "    <tr>\n",
       "      <th>0</th>\n",
       "      <td>Donald Trump Sends Out Embarrassing New Year’...</td>\n",
       "      <td>Donald Trump just couldn t wish all Americans ...</td>\n",
       "      <td>News</td>\n",
       "      <td>December 31, 2017</td>\n",
       "    </tr>\n",
       "    <tr>\n",
       "      <th>1</th>\n",
       "      <td>Drunk Bragging Trump Staffer Started Russian ...</td>\n",
       "      <td>House Intelligence Committee Chairman Devin Nu...</td>\n",
       "      <td>News</td>\n",
       "      <td>December 31, 2017</td>\n",
       "    </tr>\n",
       "    <tr>\n",
       "      <th>2</th>\n",
       "      <td>Sheriff David Clarke Becomes An Internet Joke...</td>\n",
       "      <td>On Friday, it was revealed that former Milwauk...</td>\n",
       "      <td>News</td>\n",
       "      <td>December 30, 2017</td>\n",
       "    </tr>\n",
       "    <tr>\n",
       "      <th>3</th>\n",
       "      <td>Trump Is So Obsessed He Even Has Obama’s Name...</td>\n",
       "      <td>On Christmas day, Donald Trump announced that ...</td>\n",
       "      <td>News</td>\n",
       "      <td>December 29, 2017</td>\n",
       "    </tr>\n",
       "    <tr>\n",
       "      <th>4</th>\n",
       "      <td>Pope Francis Just Called Out Donald Trump Dur...</td>\n",
       "      <td>Pope Francis used his annual Christmas Day mes...</td>\n",
       "      <td>News</td>\n",
       "      <td>December 25, 2017</td>\n",
       "    </tr>\n",
       "  </tbody>\n",
       "</table>\n",
       "</div>"
      ],
      "text/plain": [
       "                                               title  \\\n",
       "0   Donald Trump Sends Out Embarrassing New Year’...   \n",
       "1   Drunk Bragging Trump Staffer Started Russian ...   \n",
       "2   Sheriff David Clarke Becomes An Internet Joke...   \n",
       "3   Trump Is So Obsessed He Even Has Obama’s Name...   \n",
       "4   Pope Francis Just Called Out Donald Trump Dur...   \n",
       "\n",
       "                                                text subject  \\\n",
       "0  Donald Trump just couldn t wish all Americans ...    News   \n",
       "1  House Intelligence Committee Chairman Devin Nu...    News   \n",
       "2  On Friday, it was revealed that former Milwauk...    News   \n",
       "3  On Christmas day, Donald Trump announced that ...    News   \n",
       "4  Pope Francis used his annual Christmas Day mes...    News   \n",
       "\n",
       "                date  \n",
       "0  December 31, 2017  \n",
       "1  December 31, 2017  \n",
       "2  December 30, 2017  \n",
       "3  December 29, 2017  \n",
       "4  December 25, 2017  "
      ]
     },
     "execution_count": 15,
     "metadata": {},
     "output_type": "execute_result"
    }
   ],
   "source": [
    "# Load the fake news dataset\n",
    "fake_data_frame = pd.read_csv('data/fake.csv')\n",
    "fake_data_frame.head()"
   ]
  },
  {
   "cell_type": "code",
   "execution_count": 16,
   "id": "92e04eee",
   "metadata": {
    "collapsed": true
   },
   "outputs": [],
   "source": [
    "# Add labels to keep track of fake or real news\n",
    "real_data_frame['label'] = 'real'\n",
    "fake_data_frame['label'] = 'fake'"
   ]
  },
  {
   "cell_type": "code",
   "execution_count": 17,
   "id": "d7f79b8c",
   "metadata": {},
   "outputs": [
    {
     "data": {
      "text/html": [
       "<div>\n",
       "<style scoped>\n",
       "    .dataframe tbody tr th:only-of-type {\n",
       "        vertical-align: middle;\n",
       "    }\n",
       "\n",
       "    .dataframe tbody tr th {\n",
       "        vertical-align: top;\n",
       "    }\n",
       "\n",
       "    .dataframe thead th {\n",
       "        text-align: right;\n",
       "    }\n",
       "</style>\n",
       "<table border=\"1\" class=\"dataframe\">\n",
       "  <thead>\n",
       "    <tr style=\"text-align: right;\">\n",
       "      <th></th>\n",
       "      <th>title</th>\n",
       "      <th>text</th>\n",
       "      <th>subject</th>\n",
       "      <th>date</th>\n",
       "      <th>label</th>\n",
       "    </tr>\n",
       "  </thead>\n",
       "  <tbody>\n",
       "    <tr>\n",
       "      <th>0</th>\n",
       "      <td>As U.S. budget fight looms, Republicans flip t...</td>\n",
       "      <td>WASHINGTON (Reuters) - The head of a conservat...</td>\n",
       "      <td>politicsNews</td>\n",
       "      <td>December 31, 2017</td>\n",
       "      <td>real</td>\n",
       "    </tr>\n",
       "    <tr>\n",
       "      <th>1</th>\n",
       "      <td>U.S. military to accept transgender recruits o...</td>\n",
       "      <td>WASHINGTON (Reuters) - Transgender people will...</td>\n",
       "      <td>politicsNews</td>\n",
       "      <td>December 29, 2017</td>\n",
       "      <td>real</td>\n",
       "    </tr>\n",
       "    <tr>\n",
       "      <th>2</th>\n",
       "      <td>Senior U.S. Republican senator: 'Let Mr. Muell...</td>\n",
       "      <td>WASHINGTON (Reuters) - The special counsel inv...</td>\n",
       "      <td>politicsNews</td>\n",
       "      <td>December 31, 2017</td>\n",
       "      <td>real</td>\n",
       "    </tr>\n",
       "    <tr>\n",
       "      <th>3</th>\n",
       "      <td>FBI Russia probe helped by Australian diplomat...</td>\n",
       "      <td>WASHINGTON (Reuters) - Trump campaign adviser ...</td>\n",
       "      <td>politicsNews</td>\n",
       "      <td>December 30, 2017</td>\n",
       "      <td>real</td>\n",
       "    </tr>\n",
       "    <tr>\n",
       "      <th>4</th>\n",
       "      <td>Trump wants Postal Service to charge 'much mor...</td>\n",
       "      <td>SEATTLE/WASHINGTON (Reuters) - President Donal...</td>\n",
       "      <td>politicsNews</td>\n",
       "      <td>December 29, 2017</td>\n",
       "      <td>real</td>\n",
       "    </tr>\n",
       "  </tbody>\n",
       "</table>\n",
       "</div>"
      ],
      "text/plain": [
       "                                               title  \\\n",
       "0  As U.S. budget fight looms, Republicans flip t...   \n",
       "1  U.S. military to accept transgender recruits o...   \n",
       "2  Senior U.S. Republican senator: 'Let Mr. Muell...   \n",
       "3  FBI Russia probe helped by Australian diplomat...   \n",
       "4  Trump wants Postal Service to charge 'much mor...   \n",
       "\n",
       "                                                text       subject  \\\n",
       "0  WASHINGTON (Reuters) - The head of a conservat...  politicsNews   \n",
       "1  WASHINGTON (Reuters) - Transgender people will...  politicsNews   \n",
       "2  WASHINGTON (Reuters) - The special counsel inv...  politicsNews   \n",
       "3  WASHINGTON (Reuters) - Trump campaign adviser ...  politicsNews   \n",
       "4  SEATTLE/WASHINGTON (Reuters) - President Donal...  politicsNews   \n",
       "\n",
       "                 date label  \n",
       "0  December 31, 2017   real  \n",
       "1  December 29, 2017   real  \n",
       "2  December 31, 2017   real  \n",
       "3  December 30, 2017   real  \n",
       "4  December 29, 2017   real  "
      ]
     },
     "execution_count": 17,
     "metadata": {},
     "output_type": "execute_result"
    }
   ],
   "source": [
    "# Combine the datasets\n",
    "data_frame = pd.concat([real_data_frame, fake_data_frame], ignore_index=True)\n",
    "data_frame.head()"
   ]
  },
  {
   "cell_type": "code",
   "execution_count": 18,
   "id": "0d28ea44",
   "metadata": {},
   "outputs": [
    {
     "data": {
      "text/plain": [
       "title      0\n",
       "text       0\n",
       "subject    0\n",
       "date       0\n",
       "label      0\n",
       "dtype: int64"
      ]
     },
     "execution_count": 18,
     "metadata": {},
     "output_type": "execute_result"
    }
   ],
   "source": [
    "# Check if there are any null values\n",
    "data_frame.isnull().sum()"
   ]
  },
  {
   "cell_type": "code",
   "execution_count": 19,
   "id": "f79b4bdf-736d-4299-9678-d899fbdf74f7",
   "metadata": {},
   "outputs": [
    {
     "data": {
      "text/plain": [
       "label\n",
       "fake    23481\n",
       "real    21417\n",
       "Name: count, dtype: int64"
      ]
     },
     "execution_count": 19,
     "metadata": {},
     "output_type": "execute_result"
    }
   ],
   "source": [
    "# How many fake and how many real news we have?\n",
    "data_frame['label'].value_counts()"
   ]
  },
  {
   "cell_type": "code",
   "execution_count": 20,
   "id": "bfcabd0d-2c36-4b9c-b691-3ed515eb18e4",
   "metadata": {
    "scrolled": true
   },
   "outputs": [
    {
     "data": {
      "text/plain": [
       "count    44898.000000\n",
       "mean      2469.109693\n",
       "std       2171.617091\n",
       "min          1.000000\n",
       "25%       1234.000000\n",
       "50%       2186.000000\n",
       "75%       3105.000000\n",
       "max      51794.000000\n",
       "Name: length, dtype: float64"
      ]
     },
     "execution_count": 20,
     "metadata": {},
     "output_type": "execute_result"
    }
   ],
   "source": [
    "# Create a new column with text lengths and statistically describe it.\n",
    "data_frame['length'] = data_frame['text'].str.len()  \n",
    "data_frame['length'].describe()  "
   ]
  },
  {
   "cell_type": "code",
   "execution_count": 21,
   "id": "c1d3e885-f6bf-4541-94c7-5dfb8dbbf79b",
   "metadata": {
    "collapsed": true
   },
   "outputs": [],
   "source": [
    "# Split the dataset\n",
    "x_train, x_test, y_train, y_test = train_test_split(data_frame['text'], data_frame['label'])"
   ]
  },
  {
   "cell_type": "code",
   "execution_count": 62,
   "id": "d3d78446-47db-43e0-a346-5e92addcc01b",
   "metadata": {},
   "outputs": [
    {
     "name": "stderr",
     "output_type": "stream",
     "text": [
      "C:\\Users\\benas\\anaconda3\\envs\\nlp_vu\\lib\\site-packages\\sklearn\\svm\\_classes.py:32: FutureWarning: The default value of `dual` will change from `True` to `'auto'` in 1.5. Set the value of `dual` explicitly to suppress the warning.\n",
      "  warnings.warn(\n"
     ]
    },
    {
     "name": "stdout",
     "output_type": "stream",
     "text": [
      "Accuracy: 99.42%\n"
     ]
    }
   ],
   "source": [
    "# Initialize a TfidfVectorizer without stop words and ignore terms that appear in more than 70% of the documents\n",
    "tfidf_vectorizer = TfidfVectorizer(stop_words='english', max_df=0.7)\n",
    "\n",
    "# Fit and transform train set, transform test set\n",
    "tfidf_train = tfidf_vectorizer.fit_transform(x_train) \n",
    "tfidf_test = tfidf_vectorizer.transform(x_test)\n",
    "\n",
    "# Initialize a LinearSVC\n",
    "svc = LinearSVC(max_iter=1000) \n",
    "svc.fit(tfidf_train, y_train)\n",
    "\n",
    "# Predict on the test set\n",
    "y_pred = svc.predict(tfidf_test)\n",
    "\n",
    "# Calculate accuracy\n",
    "score = accuracy_score(y_test, y_pred)\n",
    "print(f'Accuracy: {round(score*100, 2)}%')"
   ]
  },
  {
   "cell_type": "code",
   "execution_count": 38,
   "id": "dfac2077-b4bc-4cc1-b3e5-9a1650a72cf9",
   "metadata": {
    "collapsed": true
   },
   "outputs": [],
   "source": [
    "# Define the label mapping\n",
    "liar_label_mapping = {\n",
    "    'pants-fire': 'fake',\n",
    "    'false': 'fake',\n",
    "    'barely-true': 'fake',\n",
    "    'half-true': 'real',\n",
    "    'mostly-true': 'real',\n",
    "    'true': 'real'\n",
    "}\n",
    "\n",
    "# Load the train file and select the relevant columns\n",
    "liar_train = pd.read_csv('data/train.tsv', sep='\\t', header=None)\n",
    "\n",
    "# Only keep the relevant columns (1 = label, 2 = statement)\n",
    "liar_train = liar_train[[1, 2]]\n",
    "\n",
    "# Assign column names\n",
    "liar_train.columns = ['label', 'statement']\n",
    "\n",
    "# Map the labels to 'fake' and 'real'\n",
    "liar_train['label'] = liar_train['label'].map(liar_label_mapping)\n",
    "\n",
    "# Filter only 'fake' and 'real' labels\n",
    "liar_train = liar_train[liar_train['label'].isin(['fake', 'real'])]"
   ]
  },
  {
   "cell_type": "code",
   "execution_count": 39,
   "id": "1475f493",
   "metadata": {
    "collapsed": true
   },
   "outputs": [],
   "source": [
    "# Load the validation file\n",
    "liar_valid = pd.read_csv('data/valid.tsv', sep='\\t', header=None)\n",
    "liar_valid = liar_valid[[1, 2]]\n",
    "liar_valid.columns = ['label', 'statement']\n",
    "liar_valid['label'] = liar_valid['label'].map(liar_label_mapping)\n",
    "liar_valid = liar_valid[liar_valid['label'].isin(['fake', 'real'])]\n",
    "\n",
    "# Load the test file\n",
    "liar_test = pd.read_csv('data/test.tsv', sep='\\t', header=None)\n",
    "liar_test = liar_test[[1, 2]]\n",
    "liar_test.columns = ['label', 'statement']\n",
    "liar_test['label'] = liar_test['label'].map(liar_label_mapping)\n",
    "liar_test = liar_test[liar_test['label'].isin(['fake', 'real'])]\n",
    "\n",
    "# Concatenate the train, validation, and test datasets\n",
    "liar_data_frame = pd.concat([liar_train[['label', 'statement']], liar_valid[['label', 'statement']], liar_test[['label', 'statement']]], ignore_index=True)"
   ]
  },
  {
   "cell_type": "code",
   "execution_count": 27,
   "id": "661babd7",
   "metadata": {},
   "outputs": [
    {
     "name": "stdout",
     "output_type": "stream",
     "text": [
      "Real & Fake dataset size: (44898, 6)\n",
      "LIAR dataset size: (12791, 2)\n"
     ]
    }
   ],
   "source": [
    "print(f\"Real & Fake dataset size: {data_frame.shape}\")\n",
    "print(f\"LIAR dataset size: {liar_data_frame.shape}\")"
   ]
  },
  {
   "cell_type": "code",
   "execution_count": 29,
   "id": "7b23e6f8",
   "metadata": {},
   "outputs": [
    {
     "name": "stdout",
     "output_type": "stream",
     "text": [
      "label\n",
      "fake    23481\n",
      "real    21417\n",
      "Name: count, dtype: int64\n",
      "label\n",
      "real    7134\n",
      "fake    5657\n",
      "Name: count, dtype: int64\n"
     ]
    }
   ],
   "source": [
    "# Distribution of labels in the real & fake dataset\n",
    "print(data_frame['label'].value_counts())\n",
    "\n",
    "# Distribution of labels in the LIAR dataset\n",
    "print(liar_data_frame['label'].value_counts())"
   ]
  },
  {
   "cell_type": "code",
   "execution_count": 42,
   "id": "e59e2848",
   "metadata": {
    "collapsed": true
   },
   "outputs": [],
   "source": [
    "# Now test on the LIAR dataset\n",
    "tfidf_liar_train = tfidf_vectorizer_real_fake.transform(liar_data_frame['statement'])\n",
    "y_pred_liar = svc_real_fake.predict(tfidf_liar_train)\n",
    "\n",
    "# Evaluate on the LIAR dataset\n",
    "liar_score = accuracy_score(liar_data_frame['label'], y_pred_liar)"
   ]
  },
  {
   "cell_type": "code",
   "execution_count": 60,
   "id": "ba1b2938",
   "metadata": {},
   "outputs": [
    {
     "name": "stdout",
     "output_type": "stream",
     "text": [
      "Accuracy on LIAR dataset: 44.7%\n",
      "Accuracy on real & fake dataset: 99.53%\n"
     ]
    }
   ],
   "source": [
    "# Compare accuray\n",
    "print(f\"Accuracy on LIAR dataset: {round(liar_score * 100, 2)}%\")\n",
    "print(f\"Accuracy on real & fake dataset: {round(score_real_fake * 100, 2)}%\")"
   ]
  },
  {
   "cell_type": "code",
   "execution_count": 35,
   "id": "39be7e6b",
   "metadata": {},
   "outputs": [
    {
     "name": "stdout",
     "output_type": "stream",
     "text": [
      "Average cosine similarity between the datasets: 0.007153156010399193\n"
     ]
    }
   ],
   "source": [
    "# Combine the text from both datasets\n",
    "combined_texts = pd.concat([data_frame['text'], liar_data_frame['statement']], ignore_index=True)\n",
    "\n",
    "# Vectorize the combined texts\n",
    "tfidf_combined = TfidfVectorizer(stop_words='english', max_df=0.7)\n",
    "tfidf_combined_matrix = tfidf_combined.fit_transform(combined_texts)\n",
    "\n",
    "# Calculate cosine similarity between the real/fake and liar dataset\n",
    "cosine_sim = cosine_similarity(tfidf_combined_matrix[:len(data_frame)], tfidf_combined_matrix[len(data_frame):])\n",
    "\n",
    "# Calculate the average cosine similarity\n",
    "avg_cosine_sim = cosine_sim.mean()\n",
    "print(f\"Average cosine similarity between the datasets: {avg_cosine_sim}\")"
   ]
  }
 ],
 "metadata": {
  "kernelspec": {
   "display_name": "Python 3 (ipykernel)",
   "language": "python",
   "name": "python3"
  },
  "language_info": {
   "codemirror_mode": {
    "name": "ipython",
    "version": 3
   },
   "file_extension": ".py",
   "mimetype": "text/x-python",
   "name": "python",
   "nbconvert_exporter": "python",
   "pygments_lexer": "ipython3",
   "version": "3.8.19"
  }
 },
 "nbformat": 4,
 "nbformat_minor": 5
}
